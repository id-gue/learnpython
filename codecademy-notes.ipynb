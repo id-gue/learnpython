{
 "cells": [
  {
   "cell_type": "markdown",
   "metadata": {},
   "source": [
    "# 01 Python Syntax\n",
    "\n",
    "### variable \n",
    "stores pieces of data and give it a name; like:"
   ]
  },
  {
   "cell_type": "code",
   "execution_count": 1,
   "metadata": {
    "collapsed": true
   },
   "outputs": [],
   "source": [
    "spam = 5"
   ]
  },
  {
   "cell_type": "markdown",
   "metadata": {},
   "source": [
    "### booleans \n",
    "data type: store values: True or False"
   ]
  },
  {
   "cell_type": "code",
   "execution_count": 5,
   "metadata": {
    "collapsed": true
   },
   "outputs": [],
   "source": [
    "a = True"
   ]
  },
  {
   "cell_type": "markdown",
   "metadata": {},
   "source": [
    "### whitespace \n",
    "important to structure code"
   ]
  },
  {
   "cell_type": "code",
   "execution_count": 2,
   "metadata": {
    "collapsed": false
   },
   "outputs": [
    {
     "ename": "IndentationError",
     "evalue": "expected an indented block (<ipython-input-2-c472846dc967>, line 4)",
     "output_type": "error",
     "traceback": [
      "\u001b[0;36m  File \u001b[0;32m\"<ipython-input-2-c472846dc967>\"\u001b[0;36m, line \u001b[0;32m4\u001b[0m\n\u001b[0;31m    eggs = 12\u001b[0m\n\u001b[0m       ^\u001b[0m\n\u001b[0;31mIndentationError\u001b[0m\u001b[0;31m:\u001b[0m expected an indented block\n"
     ]
    }
   ],
   "source": [
    "#Beispiel 1: kein whitespace = IndentationError\n",
    "\n",
    "def spam():\n",
    "eggs = 12\n",
    "return eggs\n",
    "        \n",
    "print spam()"
   ]
  },
  {
   "cell_type": "code",
   "execution_count": 1,
   "metadata": {
    "collapsed": false
   },
   "outputs": [
    {
     "name": "stdout",
     "output_type": "stream",
     "text": [
      "12\n"
     ]
    }
   ],
   "source": [
    "#Beispiel 2: whitespace da = alles gut\n",
    "\n",
    "def spam():\n",
    "    eggs = 12\n",
    "    return eggs\n",
    "        \n",
    "print spam()"
   ]
  },
  {
   "cell_type": "markdown",
   "metadata": {},
   "source": [
    "### Arithmetic operators: \n",
    "\n",
    "**  (to square, called the exponent operator)\n",
    "\n",
    "%   (modulo returns the remainder from a division)\n",
    "\n",
    "+\n",
    "\n",
    "-\n",
    "\n",
    "*\n",
    "\n",
    "/"
   ]
  },
  {
   "cell_type": "code",
   "execution_count": 8,
   "metadata": {
    "collapsed": false
   },
   "outputs": [
    {
     "name": "stdout",
     "output_type": "stream",
     "text": [
      "1\n"
     ]
    }
   ],
   "source": [
    "# Beispiel für die Anwendung des Operators Modulo\n",
    "\n",
    "def spam():\n",
    "    eggs = 10 % 3\n",
    "    return eggs\n",
    "\n",
    "print spam()"
   ]
  },
  {
   "cell_type": "markdown",
   "metadata": {},
   "source": [
    "# 02 Strings & Console Output\n",
    "\n",
    "string = data type\n",
    "\n",
    "can contain letters, numbers and symbols\n",
    "\n",
    "need to be in \"quotes\""
   ]
  },
  {
   "cell_type": "code",
   "execution_count": 7,
   "metadata": {
    "collapsed": true
   },
   "outputs": [],
   "source": [
    "#Beispiele für Strings, die Variablen (z.B.: Name) zugewiesen wurden\n",
    "\n",
    "Name = \"Anna\"\n",
    "Coffee = \"7\"\n",
    "Flavor = \"Caramel\""
   ]
  },
  {
   "cell_type": "markdown",
   "metadata": {},
   "source": [
    "### Index\n",
    "\n",
    "Each character in a string is assigned a number. This number is called the index. "
   ]
  },
  {
   "cell_type": "code",
   "execution_count": 1,
   "metadata": {
    "collapsed": false
   },
   "outputs": [
    {
     "name": "stdout",
     "output_type": "stream",
     "text": [
      "Y\n"
     ]
    }
   ],
   "source": [
    "#Wir geben den Index 4 (= 5. Buchstabe) vom String Monty aus:\n",
    "\n",
    "fifth_letter = \"MONTY\"[4]\n",
    "\n",
    "print fifth_letter"
   ]
  },
  {
   "cell_type": "markdown",
   "metadata": {},
   "source": [
    "### String Methods\n",
    "\n",
    "for performing specific tasks for stings\n",
    "\n",
    "Examples:\n",
    "\n",
    "    len() = count the length of a string (works on all data types)\n",
    "\n",
    "    lower() = get rid of all the capitalization (with .notation)\n",
    "\n",
    "    upper() = capitalize all the characters (with .notation)\n",
    "\n",
    "    str() = turns non-strings into strings (works on all data types)"
   ]
  },
  {
   "cell_type": "code",
   "execution_count": 2,
   "metadata": {
    "collapsed": false
   },
   "outputs": [
    {
     "name": "stdout",
     "output_type": "stream",
     "text": [
      "3.14\n"
     ]
    }
   ],
   "source": [
    "# Beispiel für eine Umwandlung eines integers in einen String mit str()\n",
    "\n",
    "pi = 3.14\n",
    "print str(pi)"
   ]
  },
  {
   "cell_type": "code",
   "execution_count": 3,
   "metadata": {
    "collapsed": false
   },
   "outputs": [
    {
     "name": "stdout",
     "output_type": "stream",
     "text": [
      "THE MINISTRY OF SILLY WALKS\n"
     ]
    }
   ],
   "source": [
    "# Wärend bei len und str der Inhalt in die Klammern geschrieben wird, \n",
    "# landet er bei lower und upper vor dem Punkt (= dot notation)\n",
    "\n",
    "ministry = \"The Ministry of Silly Walks\"\n",
    "\n",
    "print ministry.upper()"
   ]
  },
  {
   "cell_type": "markdown",
   "metadata": {},
   "source": [
    "### String Concatenation\n",
    "\n",
    "combine strings with each other or with non-strings by using arithmetic operators"
   ]
  },
  {
   "cell_type": "code",
   "execution_count": 4,
   "metadata": {
    "collapsed": false
   },
   "outputs": [
    {
     "name": "stdout",
     "output_type": "stream",
     "text": [
      "Life of Brian\n"
     ]
    }
   ],
   "source": [
    "# Beispiel 1: Kombination von Strings mit +-Operator\n",
    "\n",
    "print \"Life \" + \"of \" + \"Brian\""
   ]
  },
  {
   "cell_type": "code",
   "execution_count": 1,
   "metadata": {
    "collapsed": false
   },
   "outputs": [
    {
     "name": "stdout",
     "output_type": "stream",
     "text": [
      "The value of pi is around 3.14\n"
     ]
    }
   ],
   "source": [
    "# Beispiel 3: Kombination von String mit umgewandeltem String\n",
    "\n",
    "print \"The value of pi is around \" + str(3.14)"
   ]
  },
  {
   "cell_type": "markdown",
   "metadata": {},
   "source": [
    "### String Formatting with %\n",
    "\n",
    "better method (than string concentration) to combine a string with a variable is with %s and %:"
   ]
  },
  {
   "cell_type": "code",
   "execution_count": 6,
   "metadata": {
    "collapsed": false
   },
   "outputs": [
    {
     "name": "stdout",
     "output_type": "stream",
     "text": [
      "Let's not go to Camelot. 'This a silly place.\n"
     ]
    }
   ],
   "source": [
    "# Im String stehen die Platzhalter %s, \n",
    "# die nacheinander durch die Werte des %-Operators ersetzt werden\n",
    "\n",
    "string_1 = \"Camelot\"\n",
    "string_2 = \"place\"\n",
    "\n",
    "print \"Let's not go to %s. 'This a silly %s.\" % (string_1, string_2)"
   ]
  },
  {
   "cell_type": "code",
   "execution_count": 7,
   "metadata": {
    "collapsed": false
   },
   "outputs": [
    {
     "name": "stdout",
     "output_type": "stream",
     "text": [
      "What is your name?Anna\n",
      "What is your quest?Being perfect\n",
      "What is your favorite color?red\n",
      "Ah, so your name is Anna, your quest is Being perfect, and your favorite color is red.\n"
     ]
    }
   ],
   "source": [
    "# Anwenden lässt sich sowas zum Beispiel in Webformularen\n",
    "\n",
    "name = raw_input(\"What is your name?\")\n",
    "quest = raw_input(\"What is your quest?\")\n",
    "color = raw_input(\"What is your favorite color?\")\n",
    "\n",
    "print \"Ah, so your name is %s, your quest is %s, \" \\\n",
    "\"and your favorite color is %s.\" % (name, quest, color)"
   ]
  },
  {
   "cell_type": "markdown",
   "metadata": {},
   "source": [
    "# 03 Conditionals and Control Flow\n",
    "\n",
    "there are 3: comperators, boolean operators and conditional statements"
   ]
  },
  {
   "cell_type": "markdown",
   "metadata": {},
   "source": [
    "### comparators\n",
    "\n",
    "== (equal to)\n",
    "\n",
    "!= (not equal to)\n",
    "\n",
    "< and >\n",
    "\n",
    "<= and >=\n"
   ]
  },
  {
   "cell_type": "code",
   "execution_count": 8,
   "metadata": {
    "collapsed": true
   },
   "outputs": [],
   "source": [
    "# Make me false!\n",
    "bool_two = 4 == (7 * 3)\n",
    "\n",
    "# Make me true!\n",
    "bool_five = 4 <= (17 / 2)"
   ]
  },
  {
   "cell_type": "markdown",
   "metadata": {},
   "source": [
    "### Boolean operators\n",
    "\n",
    "compare statements and result with:\n",
    "\n",
    "not\n",
    "\n",
    "and \n",
    "\n",
    "or\n",
    "\n",
    "(the order is important, because not is evaluated first)"
   ]
  },
  {
   "cell_type": "code",
   "execution_count": 2,
   "metadata": {
    "collapsed": true
   },
   "outputs": [],
   "source": [
    "# False and True = False\n",
    "# False or True = True\n",
    "# Not False = True"
   ]
  },
  {
   "cell_type": "code",
   "execution_count": 9,
   "metadata": {
    "collapsed": true
   },
   "outputs": [],
   "source": [
    "# Aufgabe: Set bool_two equal to the result of True or False\n",
    "\n",
    "bool_two = 32 % 10 == 2 ** 1 or 31 % 10 == 2 ** 1"
   ]
  },
  {
   "cell_type": "code",
   "execution_count": 10,
   "metadata": {
    "collapsed": true
   },
   "outputs": [],
   "source": [
    "# Aufgabe: Set bool_five equal to the result of not not False\n",
    "\n",
    "bool_five = 7 == 9"
   ]
  },
  {
   "cell_type": "markdown",
   "metadata": {},
   "source": [
    "Noch einmal zur Reihenfolge, in der die Operatoren angewand werden:\n",
    "\n",
    "    True or not False and False. \n",
    "            >> not gets evaluated first, so we have:\n",
    "    True or True and False. \n",
    "            >> and goes next, so we get:\n",
    "    True or False. \n",
    "            >> As we've seen, True or False is True, \n",
    "            >> so the value finally returned is:\n",
    "    True.\n"
   ]
  },
  {
   "cell_type": "markdown",
   "metadata": {},
   "source": [
    "### Conditional Statements\n",
    "\n",
    "if\n",
    "\n",
    "elif\n",
    "\n",
    "else"
   ]
  },
  {
   "cell_type": "code",
   "execution_count": 3,
   "metadata": {
    "collapsed": false
   },
   "outputs": [
    {
     "name": "stdout",
     "output_type": "stream",
     "text": [
      "Success #1\n",
      "Success #2\n"
     ]
    }
   ],
   "source": [
    "# Code unter if wird nur ausgeführt, wenn die Bedingungen stimmen\n",
    "\n",
    "if 7 - 4 != 3 ** 3:\n",
    "    print \"Success #1\"\n",
    "\n",
    "if not True == 71 >= 5 * 5:\n",
    "    print \"Success #2\"\n"
   ]
  },
  {
   "cell_type": "code",
   "execution_count": 21,
   "metadata": {
    "collapsed": false
   },
   "outputs": [
    {
     "name": "stdout",
     "output_type": "stream",
     "text": [
      "small\n",
      "middel\n",
      "big\n"
     ]
    }
   ],
   "source": [
    "# nehmen wir noch elif (else if / anderenfalls) und else dazu:\n",
    "\n",
    "def greater_less_equal_5(answer):\n",
    "    if answer < 5:\n",
    "        return \"small\"\n",
    "    elif answer > 5:          \n",
    "        return \"big\"\n",
    "    else:\n",
    "        return \"middel\"\n",
    "        \n",
    "print greater_less_equal_5(4)\n",
    "print greater_less_equal_5(5)\n",
    "print greater_less_equal_5(6)"
   ]
  },
  {
   "cell_type": "markdown",
   "metadata": {},
   "source": [
    "# 04 Funktions\n",
    "\n",
    "with funktions you can reuse code\n",
    "\n",
    "funktions have three or four parts:\n",
    "\n",
    "    header\n",
    "    (optional comments)\n",
    "    body\n",
    "    call\n",
    "\n",
    "\n",
    "def = beginning of the header"
   ]
  },
  {
   "cell_type": "code",
   "execution_count": 25,
   "metadata": {
    "collapsed": false
   },
   "outputs": [
    {
     "name": "stdout",
     "output_type": "stream",
     "text": [
      "Eggs!\n"
     ]
    }
   ],
   "source": [
    "# header enthält def + Funktionsname + (parameter) \n",
    "def spam():\n",
    "    \n",
    "    # body = eingerückte Beschreibung der Funktion\n",
    "    print \"Eggs!\"\n",
    "    \n",
    "# zuletzt muss die Funktion noch aufgerufen werden (= call) \n",
    "spam()"
   ]
  },
  {
   "cell_type": "code",
   "execution_count": 27,
   "metadata": {
    "collapsed": false
   },
   "outputs": [
    {
     "name": "stdout",
     "output_type": "stream",
     "text": [
      "10 squared is 100.\n"
     ]
    },
    {
     "data": {
      "text/plain": [
       "100"
      ]
     },
     "execution_count": 27,
     "metadata": {},
     "output_type": "execute_result"
    }
   ],
   "source": [
    "# Beispiel: wir definieren die Funktion square mit dem Parameter (n)\n",
    "# schreiben in den Kommentar, was sie tut\n",
    "# Beschreiben was sie rechnen und ausgeben soll\n",
    "# und rufen sie dann mit auf mit dem Input 10\n",
    "\n",
    "def square(n):\n",
    "    \"\"\"Returns the square of a number.\"\"\"\n",
    "    squared = n**2\n",
    "    print \"%d squared is %d.\" % (n, squared)\n",
    "    return squared\n",
    "    \n",
    "square(10)\n"
   ]
  },
  {
   "cell_type": "code",
   "execution_count": 2,
   "metadata": {
    "collapsed": false
   },
   "outputs": [
    {
     "name": "stdout",
     "output_type": "stream",
     "text": [
      "37 to the power of 4 is 1874161.\n",
      "2 to the power of 12 is 4096.\n"
     ]
    }
   ],
   "source": [
    "# Funktionen können beliebig viele Parameter haben, hier z.B. zwei.\n",
    "# D.h. dass beim call unten auch zwei Werte (arguments) stehen müssen.\n",
    "\n",
    "def power(base, exponent):\n",
    "    result = base**exponent\n",
    "    print \"%d to the power of %d is %d.\" % (base, exponent, result)\n",
    "\n",
    "power(37, 4) \n",
    "\n",
    "# damit es sich lohnt, gleich noch ne zweite Aufgabe: \n",
    "power(2, 12)"
   ]
  },
  {
   "cell_type": "markdown",
   "metadata": {},
   "source": [
    "### Import Modules\n",
    "\n",
    "module = file that contains definitions, incl. variables and functions\n",
    "\n",
    "There are 3 ways to import stuff:"
   ]
  },
  {
   "cell_type": "code",
   "execution_count": 4,
   "metadata": {
    "collapsed": false
   },
   "outputs": [
    {
     "name": "stdout",
     "output_type": "stream",
     "text": [
      "5.0\n"
     ]
    }
   ],
   "source": [
    "# Weg 1 - Import des Moduls mit einzelnem Aufruf\n",
    "\n",
    "import math\n",
    "print math.sqrt(25)\n",
    "\n",
    "# kleines Extra: wenn man etwas mit einem langen Namen importiert, kann man das abkürzen:\n",
    "# import geopandas as gpd\n",
    "# states = gpd.read_file... >> hier kann man dann gpd verwenden statt geopandas"
   ]
  },
  {
   "cell_type": "code",
   "execution_count": 3,
   "metadata": {
    "collapsed": false
   },
   "outputs": [
    {
     "name": "stdout",
     "output_type": "stream",
     "text": [
      "5.0\n"
     ]
    }
   ],
   "source": [
    "# Weg 2 - Import einzelner Funktionen aus einem Modul\n",
    "\n",
    "from math import sqrt\n",
    "print sqrt(25)"
   ]
  },
  {
   "cell_type": "code",
   "execution_count": 1,
   "metadata": {
    "collapsed": false
   },
   "outputs": [
    {
     "name": "stdout",
     "output_type": "stream",
     "text": [
      "5.0\n"
     ]
    }
   ],
   "source": [
    "# Weg 3 - universaler Import (ganzes Modul geladen)\n",
    "# Funktioniert, meist aber ne schlechte Idee\n",
    "\n",
    "from math import *\n",
    "print sqrt(25)"
   ]
  },
  {
   "cell_type": "markdown",
   "metadata": {},
   "source": [
    "### Build-In Funktions\n",
    "\n",
    "= funktions you can use in Python without import anything\n",
    "\n",
    "we already know:\n",
    "\n",
    "    .upper() .lower() str() len()\n",
    "\n",
    "let's learn now about:\n",
    "\n",
    "    max() = show biggest number\n",
    "    min() = show smallest number\n",
    "    abs() = distance from zero (absolute value)"
   ]
  },
  {
   "cell_type": "code",
   "execution_count": 11,
   "metadata": {
    "collapsed": false
   },
   "outputs": [
    {
     "name": "stdout",
     "output_type": "stream",
     "text": [
      "10\n",
      "-10\n",
      "10\n"
     ]
    }
   ],
   "source": [
    "# Wir definieren je eine Funktionen für die Ausgabe:\n",
    "# des größten Wertes, des kleinsten Wertes und des Abstandes zu 0\n",
    "\n",
    "def biggest_number(*args):\n",
    "    return max(args)\n",
    "    \n",
    "def smallest_number(*args):\n",
    "    return min(args)\n",
    "\n",
    "def distance_from_zero(arg):\n",
    "    return abs(arg)\n",
    "\n",
    "print biggest_number(-10, -5, 5, 10)\n",
    "print smallest_number(-10, -5, 5, 10)\n",
    "print distance_from_zero(-10) "
   ]
  },
  {
   "cell_type": "markdown",
   "metadata": {},
   "source": [
    "### data types\n",
    "\n",
    "type() returns if something is a:\n",
    "\n",
    "    string = Text in Anführungszeichen\n",
    "    float = Kommazahl\n",
    "    integer = Ganze Zahl"
   ]
  },
  {
   "cell_type": "code",
   "execution_count": 55,
   "metadata": {
    "collapsed": false
   },
   "outputs": [
    {
     "name": "stdout",
     "output_type": "stream",
     "text": [
      "<type 'str'>\n",
      "<type 'int'>\n",
      "<type 'float'>\n"
     ]
    }
   ],
   "source": [
    "# Aufgabe: Gib mir den Typ aus von:\n",
    "\n",
    "print type(\"text\")\n",
    "print type(0)\n",
    "print type(0.4)"
   ]
  },
  {
   "cell_type": "markdown",
   "metadata": {},
   "source": [
    "# 05 Lists & Dictionaries\n",
    "\n",
    "### Lists \n",
    "\n",
    "- with []\n",
    "- datatypes that can store a collection of different pieces of information"
   ]
  },
  {
   "cell_type": "code",
   "execution_count": 76,
   "metadata": {
    "collapsed": false
   },
   "outputs": [
    {
     "name": "stdout",
     "output_type": "stream",
     "text": [
      "cassowary\n"
     ]
    }
   ],
   "source": [
    "# Aufgabe: Mache eine Liste von Strings und drucke den zweiten\n",
    "\n",
    "zoo_animals = [\"pangolin\", \"cassowary\", \"sloth\", \"lion\"];\n",
    "\n",
    "print zoo_animals[1]"
   ]
  },
  {
   "cell_type": "code",
   "execution_count": 78,
   "metadata": {
    "collapsed": false
   },
   "outputs": [
    {
     "name": "stdout",
     "output_type": "stream",
     "text": [
      "['leopard', 'gepard', 'tiger']\n"
     ]
    }
   ],
   "source": [
    "# Listenwerte können im Nachhinein mit .append() oder .insert erweitern\n",
    "# und mit [positionsangabe] ausgetauscht werden\n",
    "\n",
    "zoo_animals = [];\n",
    "\n",
    "# wir erweitern die leere Liste um zwei strings am Listenende\n",
    "zoo_animals.append(\"lion\")\n",
    "zoo_animals.append(\"tiger\")\n",
    "\n",
    "# wir fügen an Position 1 einen weiteren String ein\n",
    "zoo_animals.insert(1, \"gepard\")\n",
    "\n",
    "# wir ersetzen den ersten String\n",
    "zoo_animals[0] = (\"leopard\")\n",
    "\n",
    "print zoo_animals"
   ]
  },
  {
   "cell_type": "markdown",
   "metadata": {},
   "source": [
    "Wenn man mehrere Werte ausgeben möchte kann man das machen mit:\n",
    "    \n",
    "    [:3] = vom Anfang bis zur dritten Position\n",
    "    [4:6] = von der 4. bis 6. Position\n",
    "    [7:] = von der 7. Position bis zum ende\n",
    "    "
   ]
  },
  {
   "cell_type": "markdown",
   "metadata": {
    "collapsed": true
   },
   "source": [
    "### Suchen \n",
    "\n",
    "mit .index\n",
    "\n",
    "    z.B.: print zoo.index(\"lion\")\n",
    "    gibt die Position an, auf der der Löwe in der Liste auftaucht. \n",
    "    z.B.: 3"
   ]
  },
  {
   "cell_type": "markdown",
   "metadata": {},
   "source": [
    "### for-loops\n",
    "\n",
    "aktionen für alle items in einer Liste"
   ]
  },
  {
   "cell_type": "code",
   "execution_count": 4,
   "metadata": {
    "collapsed": false
   },
   "outputs": [
    {
     "name": "stdout",
     "output_type": "stream",
     "text": [
      "2\n",
      "18\n",
      "6\n",
      "16\n"
     ]
    }
   ],
   "source": [
    "# Eine Aufgabe für alle Werte in my_List:\n",
    "# Gebe mir die Listenwerte multlipiziert mit zwei aus:\n",
    "\n",
    "my_list = [1,9,3,8]\n",
    "\n",
    "for number in my_list:\n",
    "    print 2 * number"
   ]
  },
  {
   "cell_type": "markdown",
   "metadata": {},
   "source": [
    "### Dictionaries\n",
    "\n",
    "- enclosed with curly braces {}\n",
    "- similar to lists: but there have paired values (= key-value pairs)\n",
    "- useful for login pages, where a username is paired with a password\n"
   ]
  },
  {
   "cell_type": "code",
   "execution_count": 12,
   "metadata": {
    "collapsed": false
   },
   "outputs": [
    {
     "name": "stdout",
     "output_type": "stream",
     "text": [
      "big\n"
     ]
    }
   ],
   "source": [
    "# Wir erschaffen ein dictionary names residents\n",
    "# Da hinein packen wir 3 key-value Paare\n",
    "# Dann geben wir den Wert von einem der Paare aus\n",
    "    \n",
    "residents = {'Puffin' : \"cute\", 'Sloth' : \"big\", 'Burmese Python' : \"dangerous\"}\n",
    "\n",
    "print residents['Sloth']\n"
   ]
  },
  {
   "cell_type": "code",
   "execution_count": 10,
   "metadata": {
    "collapsed": false
   },
   "outputs": [
    {
     "name": "stdout",
     "output_type": "stream",
     "text": [
      "There are 4 items on the menu.\n",
      "{'Pasta': 12.3, 'Chicken Alfredo': 14.5, 'Kimchi': 13.6, 'Salad': 9.5}\n"
     ]
    }
   ],
   "source": [
    "# Wir erzeugen ein leeres dictionary namens menu\n",
    "# Dann fügen wir vier key-value pairs hinzu\n",
    "# Dann lassen wir die Paare zählen und geben das zusammen mit Text aus\n",
    "# Schließlich geben wir die kompletten Paare aus\n",
    "\n",
    "menu = {}\n",
    "\n",
    "menu['Chicken Alfredo'] = 14.50\n",
    "menu['Salad'] = 9.50\n",
    "menu['Kimchi'] = 13.60\n",
    "menu['Pasta'] = 12.30\n",
    "\n",
    "\n",
    "print \"There are \" + str(len(menu)) + \" items on the menu.\"\n",
    "print menu"
   ]
  },
  {
   "cell_type": "markdown",
   "metadata": {},
   "source": [
    "Werte aus einem dictionary Löschen geht auf zwei Wegen:\n",
    "\n",
    "    del menu['Salad']\n",
    "    menu.remove('Salad')"
   ]
  },
  {
   "cell_type": "markdown",
   "metadata": {},
   "source": [
    "Werte nachträglich austauschen ist ebenfalls einfach:\n",
    "\n",
    "    menu['Pasta'] = 11.50"
   ]
  },
  {
   "cell_type": "markdown",
   "metadata": {
    "collapsed": true
   },
   "source": [
    "# Komplexere Abfragen"
   ]
  },
  {
   "cell_type": "code",
   "execution_count": 5,
   "metadata": {
    "collapsed": false
   },
   "outputs": [
    {
     "name": "stdout",
     "output_type": "stream",
     "text": [
      "Lloyd\n",
      "[90.0, 97.0, 75.0, 92.0]\n",
      "[88.0, 40.0, 94.0]\n",
      "[75.0, 90.0]\n",
      "Alice\n",
      "[100.0, 92.0, 98.0, 100.0]\n",
      "[82.0, 83.0, 91.0]\n",
      "[89.0, 97.0]\n"
     ]
    }
   ],
   "source": [
    "# Aufgabe: für unsere beiden Studenten machen wir zwei Dictionaries\n",
    "# In jedem Dictionary liegt ein String mit dem Namen sowie\n",
    "#   drei Listen mit Daten\n",
    "\n",
    "lloyd = {\n",
    "    \"name\": \"Lloyd\",\n",
    "    \"homework\": [90.0, 97.0, 75.0, 92.0],\n",
    "    \"quizzes\": [88.0, 40.0, 94.0],\n",
    "    \"tests\": [75.0, 90.0]\n",
    "}\n",
    "alice = {\n",
    "    \"name\": \"Alice\",\n",
    "    \"homework\": [100.0, 92.0, 98.0, 100.0],\n",
    "    \"quizzes\": [82.0, 83.0, 91.0],\n",
    "    \"tests\": [89.0, 97.0]\n",
    "}\n",
    "\n",
    "# Mit der Liste students macht man die beiden Dictionaies \n",
    "#   gemeinsam ansprechbar\n",
    "\n",
    "students = [lloyd, alice]\n",
    "\n",
    "# Anschließend schreiben wir einen for-loop namens 'drei'\n",
    "# Im for-loop rufen wir die liste students auf und damit \n",
    "#   auch beide Dictionaries\n",
    "# Die print-befehle geben einzeln die gespeicherten Daten aus\n",
    "\n",
    "for drei in students:\n",
    "    print drei[\"name\"]\n",
    "    print drei[\"homework\"]\n",
    "    print drei[\"quizzes\"]\n",
    "    print drei[\"tests\"]\n"
   ]
  },
  {
   "cell_type": "markdown",
   "metadata": {
    "collapsed": false
   },
   "source": [
    "## List accessing\n",
    "\n"
   ]
  },
  {
   "cell_type": "markdown",
   "metadata": {
    "collapsed": true
   },
   "source": [
    "### 3 ways to remove elements from lists"
   ]
  },
  {
   "cell_type": "code",
   "execution_count": 7,
   "metadata": {
    "collapsed": false
   },
   "outputs": [
    {
     "name": "stdout",
     "output_type": "stream",
     "text": [
      "[1, 5]\n"
     ]
    }
   ],
   "source": [
    "#.pop() \n",
    "# entfernt Listenelemente nach index-wert \n",
    "# und gibt den betreffenden Wert zurück\n",
    "\n",
    "n = [1, 3, 5]\n",
    "n.pop(1)\n",
    "print n"
   ]
  },
  {
   "cell_type": "code",
   "execution_count": 9,
   "metadata": {
    "collapsed": false
   },
   "outputs": [
    {
     "name": "stdout",
     "output_type": "stream",
     "text": [
      "[1, 5]\n"
     ]
    }
   ],
   "source": [
    "#del([])\n",
    "# entfernt ebenfalls Listenelemente nach Index,\n",
    "# gibt abr nichts in \"return\"\n",
    "\n",
    "m = [1, 3, 5]\n",
    "del(m[1])\n",
    "print m"
   ]
  },
  {
   "cell_type": "code",
   "execution_count": 14,
   "metadata": {
    "collapsed": false
   },
   "outputs": [
    {
     "name": "stdout",
     "output_type": "stream",
     "text": [
      "[3, 5]\n"
     ]
    }
   ],
   "source": [
    "#.remove\n",
    "# hingegen entfernt den in Klammern benannten Wert,\n",
    "# sofern vorhanden – hier also die anna. \n",
    "\n",
    "m = ['anna', 3, 5]\n",
    "m.remove('anna')\n",
    "print m"
   ]
  },
  {
   "cell_type": "markdown",
   "metadata": {},
   "source": [
    "## Using funktions with lists"
   ]
  },
  {
   "cell_type": "code",
   "execution_count": 2,
   "metadata": {
    "collapsed": false
   },
   "outputs": [
    {
     "name": "stdout",
     "output_type": "stream",
     "text": [
      "[3, 8, 7]\n"
     ]
    }
   ],
   "source": [
    "# wir definieren zuerst eine funktion (veränderung der Liste an Index 1), \n",
    "# dann machen wir eine Liste (hier einfach nur drei Zahlen) und \n",
    "# rufen dann innerhalb von print unsere funktion auf\n",
    "\n",
    "def list_function(x):\n",
    "    x[1] = x[1] + 3\n",
    "    return x\n",
    "\n",
    "n = [3, 5, 7]\n",
    "print list_function(n)"
   ]
  },
  {
   "cell_type": "markdown",
   "metadata": {},
   "source": [
    "Listen innerhalb von Funktionen können genauso verändert werden wie Listen außerhalb:"
   ]
  },
  {
   "cell_type": "code",
   "execution_count": 6,
   "metadata": {
    "collapsed": false
   },
   "outputs": [
    {
     "name": "stdout",
     "output_type": "stream",
     "text": [
      "[3, 5, 7, 9]\n"
     ]
    }
   ],
   "source": [
    "# unsere Ausgangsliste:\n",
    "n = [3, 5, 7]\n",
    "\n",
    "# Funktion: erweitere die Liste um die Nummer 9\n",
    "def list_extender(lst):\n",
    "    lst.append(9)\n",
    "    return lst\n",
    "\n",
    "# Befehl, durch Funktion list_extender veränderte Liste (n) auszugeben:\n",
    "print list_extender(n)"
   ]
  },
  {
   "cell_type": "code",
   "execution_count": 10,
   "metadata": {
    "collapsed": false
   },
   "outputs": [
    {
     "name": "stdout",
     "output_type": "stream",
     "text": [
      "3\n",
      "5\n",
      "7\n"
     ]
    }
   ],
   "source": [
    "n = [3, 5, 7]\n",
    "\n",
    "# man kann print auch in eine Funktion werfen\n",
    "# Funktion hier: Liste nacheinander ausgeben\n",
    "\n",
    "def print_list(x):\n",
    "    for i in range(0, len(x)):\n",
    "        print x[i]\n",
    "\n",
    "# wird aber erst nach dem CALL ausgeführt\n",
    "print_list(n)"
   ]
  },
  {
   "cell_type": "markdown",
   "metadata": {},
   "source": [
    "### Modifying each element in a list \n",
    "\n",
    "It's useful to do so in a function \n",
    "as you can easily put in a list of any length \n",
    "and get the same functionality.\n",
    "\n"
   ]
  },
  {
   "cell_type": "code",
   "execution_count": 13,
   "metadata": {
    "collapsed": false
   },
   "outputs": [
    {
     "name": "stdout",
     "output_type": "stream",
     "text": [
      "[6, 10, 14]\n"
     ]
    }
   ],
   "source": [
    "# Zum Vergleich: hier verdoppeln wir die Listenwerte in einerm for-Loop:\n",
    "\n",
    "n = [3, 5, 7]\n",
    "\n",
    "for i in range(0, len(n)):\n",
    "    n[i] = n[i] * 2\n",
    "\n",
    "print n"
   ]
  },
  {
   "cell_type": "code",
   "execution_count": 25,
   "metadata": {
    "collapsed": false
   },
   "outputs": [
    {
     "name": "stdout",
     "output_type": "stream",
     "text": [
      "[6, 10, 14]\n"
     ]
    }
   ],
   "source": [
    "# Und jetzt packen wir den Loop in eine Funktion:\n",
    "# dafür müssen die \"n\" anonymisiert werden (wir nehmen das argument x)\n",
    "\n",
    "n = [3, 5, 7]\n",
    "\n",
    "def double_list(x):\n",
    "    for i in range(0, len(x)):\n",
    "        x[i] = x[i] * 2\n",
    "    return x\n",
    "\n",
    "print double_list(n)"
   ]
  },
  {
   "cell_type": "markdown",
   "metadata": {},
   "source": [
    "### Passing a range into a function\n",
    "\n",
    "Die Funktion range() ist die Abkürzung zum Listen generieren"
   ]
  },
  {
   "cell_type": "code",
   "execution_count": 24,
   "metadata": {
    "collapsed": false
   },
   "outputs": [
    {
     "name": "stdout",
     "output_type": "stream",
     "text": [
      "[0, 1, 2, 3, 4, 5, 6, 7, 8, 9]\n",
      "[1, 2, 3, 4, 5, 6, 7, 8, 9]\n",
      "[1, 4, 7]\n"
     ]
    }
   ],
   "source": [
    "# bis x\n",
    "print range(10)\n",
    "\n",
    "# von x bis x\n",
    "print range(1,10)\n",
    "\n",
    "# von x bis x in x-er-Schritten\n",
    "print range(1,10,3)"
   ]
  },
  {
   "cell_type": "markdown",
   "metadata": {},
   "source": [
    "Eigentlich ist Variante 3 der Normalfall,\n",
    "aber wenn keine Zahlen da stehen, kommt der Default ins Spiel:\n",
    "Nimm 1er-Schritte und starte bei 0"
   ]
  },
  {
   "cell_type": "code",
   "execution_count": 28,
   "metadata": {
    "collapsed": false
   },
   "outputs": [
    {
     "name": "stdout",
     "output_type": "stream",
     "text": [
      "[6, 10, 14]\n"
     ]
    }
   ],
   "source": [
    "# Nimmt man jetzt das Beispiel von oben, kann man die Liste n ersetzen:\n",
    "# mit nur einem Befehl range() innerhalb der Print-Funktion:\n",
    "\n",
    "def my_function(x):\n",
    "    for i in range(0, len(x)):\n",
    "        x[i] = x[i] * 2\n",
    "    return x\n",
    "\n",
    "print my_function(range(3,8,2))"
   ]
  },
  {
   "cell_type": "markdown",
   "metadata": {},
   "source": [
    "### Iterating over a list in a function\n",
    "\n",
    "es gibt zwei Wege, innerhalb von Funktionen durch Listen zu gehen:\n",
    "\n",
    "for item in list:\n",
    ">    print item\n",
    "  \n",
    "\n",
    "for i in range(len(list)):\n",
    ">    print list[i]\n",
    "    \n",
    "Beide gehen durch den Index, doch das zweite hat den Vorteil, dass man damit die Liste veränern kann. Das brauchen wir in unserem nächsten Beispiel aber nicht:"
   ]
  },
  {
   "cell_type": "code",
   "execution_count": 33,
   "metadata": {
    "collapsed": false
   },
   "outputs": [
    {
     "name": "stdout",
     "output_type": "stream",
     "text": [
      "15\n"
     ]
    }
   ],
   "source": [
    "n = [3, 5, 7]\n",
    "\n",
    "# In unserer Funktion total \n",
    "# weisen wir unserer Variable total den Wert 0 zu \n",
    "# dazu addieren wir die Werte, \n",
    "# die über das Argument numbers zugewiesen werden.\n",
    "\n",
    "def total(numbers):\n",
    "    result = 0\n",
    "    for item in numbers:\n",
    "        result = result + item\n",
    "    return result\n",
    "        \n",
    "print total(n)"
   ]
  },
  {
   "cell_type": "markdown",
   "metadata": {},
   "source": [
    "### Using strings in lists in functions\n",
    "\n",
    "Wir bleiben Listen, auf die Funktionen mithilfe von Loops angewendet werden – allerdings werfen wir jetzt mal \"strings\" statt integers in die Liste:"
   ]
  },
  {
   "cell_type": "code",
   "execution_count": 35,
   "metadata": {
    "collapsed": false
   },
   "outputs": [
    {
     "name": "stdout",
     "output_type": "stream",
     "text": [
      "MichaelLieberman\n"
     ]
    }
   ],
   "source": [
    "n = [\"Michael\", \"Lieberman\"]\n",
    "\n",
    "def join_strings(words):\n",
    "    result = \"\"\n",
    "    for item in words:\n",
    "        result = result + item\n",
    "    return result\n",
    "\n",
    "print join_strings(n)"
   ]
  },
  {
   "cell_type": "markdown",
   "metadata": {},
   "source": [
    "### Using two lists as two arguments in a function\n",
    "\n",
    "Mehrere Listen kann man genauso wie mehrere arguments in eine Funktionen werfen:"
   ]
  },
  {
   "cell_type": "code",
   "execution_count": 38,
   "metadata": {
    "collapsed": false
   },
   "outputs": [
    {
     "name": "stdout",
     "output_type": "stream",
     "text": [
      "[1, 2, 3, 4, 5, 6]\n"
     ]
    }
   ],
   "source": [
    "# zwei Listen:\n",
    "m = [1, 2, 3]\n",
    "n = [4, 5, 6]\n",
    "\n",
    "# eine Funktion mit 2 arguments, die addiert werden\n",
    "def join_lists (x, y):\n",
    "    return x + y\n",
    "\n",
    "# ausgabe beider Listen gemeinsam\n",
    "print join_lists(m, n)"
   ]
  },
  {
   "cell_type": "markdown",
   "metadata": {},
   "source": [
    "### Using a list of lists in a function\n",
    "\n",
    "Jetzt nutzten wir eine Liste, die wiederum Listen enthält in einer Funktion.   \n",
    "Dazu brauchen wir zwei ineinander geschachtelte For-Loops:"
   ]
  },
  {
   "cell_type": "code",
   "execution_count": 39,
   "metadata": {
    "collapsed": false
   },
   "outputs": [
    {
     "name": "stdout",
     "output_type": "stream",
     "text": [
      "1\n",
      "2\n",
      "3\n",
      "4\n",
      "5\n",
      "6\n"
     ]
    }
   ],
   "source": [
    "list_of_lists = [[1,2,3], [4,5,6]]\n",
    "\n",
    "for lst in list_of_lists:\n",
    "    for item in lst:\n",
    "        print item"
   ]
  },
  {
   "cell_type": "code",
   "execution_count": 42,
   "metadata": {
    "collapsed": false
   },
   "outputs": [
    {
     "name": "stdout",
     "output_type": "stream",
     "text": [
      "[1, 2, 3, 4, 5, 6, 7, 8, 9]\n"
     ]
    }
   ],
   "source": [
    "n = [[1, 2, 3], [4, 5, 6, 7, 8, 9]]\n",
    "\n",
    "# funktion mit geschachtelten for-Loops für die geschachtelten Listen\n",
    "# wichtig: return results bezieht sich auf das erste for (= beide Listen)\n",
    "\n",
    "def flatten(lists):\n",
    "    results = []\n",
    "    for numbers in lists:\n",
    "        for nunu in numbers:\n",
    "            results.append(nunu)\n",
    "    return results\n",
    "\n",
    "print flatten(n)"
   ]
  },
  {
   "cell_type": "markdown",
   "metadata": {},
   "source": [
    "# Battleship"
   ]
  },
  {
   "cell_type": "code",
   "execution_count": 5,
   "metadata": {
    "collapsed": false
   },
   "outputs": [
    {
     "name": "stdout",
     "output_type": "stream",
     "text": [
      "[['O', 'O', 'O', 'O', 'O'], ['O', 'O', 'O', 'O', 'O'], ['O', 'O', 'O', 'O', 'O'], ['O', 'O', 'O', 'O', 'O'], ['O', 'O', 'O', 'O', 'O']]\n"
     ]
    }
   ],
   "source": [
    "# leere Liste\n",
    "board = []\n",
    "\n",
    "# wir verfünffachen die Liste und\n",
    "# füllen jede davon mit 5 Os (großes o)\n",
    "for ocean in range(0,5):\n",
    "    board.append([\"O\"] * 5)\n",
    "    \n",
    "print board"
   ]
  },
  {
   "cell_type": "markdown",
   "metadata": {},
   "source": [
    "Das sieht etwas chaotisch aus, wir wollen ja 5 einzelne Reihen. Deshalb das ganze noch mal mit einer Funktion, in der ein for-Loop einzeln durch die Reihen geht und diese ausgibt:"
   ]
  },
  {
   "cell_type": "code",
   "execution_count": 7,
   "metadata": {
    "collapsed": false
   },
   "outputs": [
    {
     "data": {
      "text/plain": [
       "[['O', 'O', 'O', 'O', 'O'],\n",
       " ['O', 'O', 'O', 'O', 'O'],\n",
       " ['O', 'O', 'O', 'O', 'O'],\n",
       " ['O', 'O', 'O', 'O', 'O'],\n",
       " ['O', 'O', 'O', 'O', 'O']]"
      ]
     },
     "execution_count": 7,
     "metadata": {},
     "output_type": "execute_result"
    }
   ],
   "source": [
    "board = []\n",
    "\n",
    "for ocean in range(0,5):\n",
    "    board.append([\"O\"] * 5)\n",
    "    \n",
    "def print_board(board):\n",
    "    for row in board:\n",
    "        print row\n",
    "\n",
    "board"
   ]
  },
  {
   "cell_type": "markdown",
   "metadata": {},
   "source": [
    "Jetzt wirds kompliziert:"
   ]
  },
  {
   "cell_type": "code",
   "execution_count": 17,
   "metadata": {
    "collapsed": false
   },
   "outputs": [],
   "source": [
    "# zuerst importieren wir den Zufall:\n",
    "from random import randint \n",
    "\n",
    "board = []\n",
    "\n",
    "for x in range(0, 5):\n",
    "    board.append([\"O\"] * 5)\n",
    "\n",
    "# .join soll die ganzen überflüssigen Zeichen (',') entfernen\n",
    "# funktionierte hier in der Anzeige aber nicht... \n",
    "def print_board(board):\n",
    "    for row in board:\n",
    "        print \" \".join(row)\n",
    "\n",
    "# dann suchen wir eine Zufallszeile zwischen 0 und 4\n",
    "def random_row(board):\n",
    "    rows = randint(0, len(board) - 1)\n",
    "    return rows\n",
    "\n",
    "# ... und eine Zufallsspalte zwischen 0 und 4\n",
    "def random_col(board):\n",
    "    columns = randint(0, len(board) - 1)\n",
    "    return columns\n",
    "\n",
    "# und dann verstecken wir unser Ship:\n",
    "ship_row = random_row(board)\n",
    "ship_col = random_col(board)\n",
    "\n",
    "\n"
   ]
  },
  {
   "cell_type": "code",
   "execution_count": null,
   "metadata": {
    "collapsed": false
   },
   "outputs": [
    {
     "name": "stdout",
     "output_type": "stream",
     "text": [
      "Guess Row: 2\n"
     ]
    }
   ],
   "source": [
    "# Kommen wir zur Eingabe:\n",
    "# Jetzt fragen wir den Nutzer nach Reihe und Spalte\n",
    "\n",
    "guess_row = int(raw_input(\"Guess Row: \"))\n",
    "guess_col = int(raw_input(\"Guess Col: \"))"
   ]
  },
  {
   "cell_type": "code",
   "execution_count": null,
   "metadata": {
    "collapsed": true
   },
   "outputs": [],
   "source": []
  },
  {
   "cell_type": "code",
   "execution_count": null,
   "metadata": {
    "collapsed": true
   },
   "outputs": [],
   "source": []
  },
  {
   "cell_type": "code",
   "execution_count": null,
   "metadata": {
    "collapsed": true
   },
   "outputs": [],
   "source": []
  },
  {
   "cell_type": "code",
   "execution_count": null,
   "metadata": {
    "collapsed": true
   },
   "outputs": [],
   "source": []
  }
 ],
 "metadata": {
  "kernelspec": {
   "display_name": "Python 2",
   "language": "python",
   "name": "python2"
  },
  "language_info": {
   "codemirror_mode": {
    "name": "ipython",
    "version": 2
   },
   "file_extension": ".py",
   "mimetype": "text/x-python",
   "name": "python",
   "nbconvert_exporter": "python",
   "pygments_lexer": "ipython2",
   "version": "2.7.13"
  }
 },
 "nbformat": 4,
 "nbformat_minor": 1
}
